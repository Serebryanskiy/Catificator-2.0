{
 "cells": [
  {
   "cell_type": "code",
   "execution_count": 1,
   "metadata": {},
   "outputs": [],
   "source": [
    "import numpy as np\n",
    "import os\n",
    "from tensorflow.keras import models\n",
    "from tensorflow.keras.preprocessing.image import ImageDataGenerator\n",
    "from tensorflow.keras.preprocessing import image\n",
    "from tensorflow.keras.layers import Dropout, Flatten, Dense\n",
    "from tensorflow.keras.applications import Xception\n",
    "from tensorflow.keras.models import Model, Sequential\n",
    "from tensorflow.keras.layers import Dense, GlobalAveragePooling2D, BatchNormalization\n",
    "from tensorflow.keras import backend as K\n",
    "from tensorflow.keras.applications.xception import preprocess_input\n",
    "from tensorflow.keras.callbacks import ModelCheckpoint\n",
    "import tensorflow as tf\n",
    "\n",
    "import matplotlib.pyplot as plt\n",
    "from matplotlib import style\n",
    "import seaborn as sns\n",
    "\n",
    "%matplotlib inline  \n",
    "style.use('fivethirtyeight')\n",
    "sns.set(style='whitegrid',color_codes=True)"
   ]
  },
  {
   "cell_type": "code",
   "execution_count": 2,
   "metadata": {},
   "outputs": [
    {
     "name": "stdout",
     "output_type": "stream",
     "text": [
      "['.DS_Store', 'test', 'train', 'validation']\n",
      "['Cat', '.DS_Store', 'NotCat']\n",
      "['Cat', '.DS_Store', 'NotCat']\n"
     ]
    }
   ],
   "source": [
    "SEED = 2019\n",
    "SIZE= 498\n",
    "BATCH_SIZE=48\n",
    "\n",
    "PATH = \"./data/\"\n",
    "TRAIN_DATA_DIR = PATH + 'train'\n",
    "VALIDATION_DATA_DIR = PATH + 'validation'\n",
    "print(os.listdir(PATH))\n",
    "print(os.listdir(TRAIN_DATA_DIR))\n",
    "print(os.listdir(VALIDATION_DATA_DIR))\n"
   ]
  },
  {
   "cell_type": "code",
   "execution_count": 9,
   "metadata": {},
   "outputs": [
    {
     "name": "stdout",
     "output_type": "stream",
     "text": [
      "Found 19650 images belonging to 2 classes.\n",
      "Found 4210 images belonging to 2 classes.\n"
     ]
    }
   ],
   "source": [
    "train_datagen = ImageDataGenerator(preprocessing_function=preprocess_input,\n",
    "    shear_range=0.2, zoom_range=0.2, horizontal_flip=True)\n",
    "\n",
    "test_datagen = ImageDataGenerator(preprocessing_function=preprocess_input)\n",
    "\n",
    "train_generator = train_datagen.flow_from_directory(TRAIN_DATA_DIR,\n",
    "    target_size=(SIZE, SIZE), batch_size=BATCH_SIZE, class_mode='categorical',seed=SEED)\n",
    "\n",
    "validation_generator = test_datagen.flow_from_directory(VALIDATION_DATA_DIR,\n",
    "    shuffle=False, target_size=(SIZE, SIZE), batch_size=BATCH_SIZE, class_mode='categorical', seed=SEED)"
   ]
  },
  {
   "cell_type": "code",
   "execution_count": 10,
   "metadata": {},
   "outputs": [],
   "source": [
    "base_model = Xception(weights='imagenet', include_top=False)\n",
    "x = base_model.output\n",
    "x = GlobalAveragePooling2D()(x)\n",
    "x = BatchNormalization()(x)\n",
    "x = Dense(1024, activation='relu')(x)\n",
    "x = Dropout(0.5)(x)\n",
    "predictions = Dense(2, activation='softmax')(x)"
   ]
  },
  {
   "cell_type": "code",
   "execution_count": 11,
   "metadata": {},
   "outputs": [
    {
     "name": "stdout",
     "output_type": "stream",
     "text": [
      "0 F <tensorflow.python.keras.engine.input_layer.InputLayer object at 0x7efaafe857f0>\n",
      "1 F <tensorflow.python.keras.layers.convolutional.Conv2D object at 0x7efbe83fe358>\n",
      "2 F <tensorflow.python.keras.layers.normalization.BatchNormalization object at 0x7efaafe16da0>\n",
      "3 F <tensorflow.python.keras.layers.core.Activation object at 0x7efaafe22860>\n",
      "4 F <tensorflow.python.keras.layers.convolutional.Conv2D object at 0x7efaafe22eb8>\n",
      "5 F <tensorflow.python.keras.layers.normalization.BatchNormalization object at 0x7efabaec5940>\n",
      "6 F <tensorflow.python.keras.layers.core.Activation object at 0x7efabaed7278>\n",
      "7 F <tensorflow.python.keras.layers.convolutional.SeparableConv2D object at 0x7efabae06ba8>\n",
      "8 F <tensorflow.python.keras.layers.normalization.BatchNormalization object at 0x7efabada5208>\n",
      "9 F <tensorflow.python.keras.layers.core.Activation object at 0x7efabad41470>\n",
      "10 F <tensorflow.python.keras.layers.convolutional.SeparableConv2D object at 0x7efabad732e8>\n",
      "11 F <tensorflow.python.keras.layers.normalization.BatchNormalization object at 0x7efabac96240>\n",
      "12 F <tensorflow.python.keras.layers.convolutional.Conv2D object at 0x7efabaed7358>\n",
      "13 F <tensorflow.python.keras.layers.pooling.MaxPooling2D object at 0x7efabac89ef0>\n",
      "14 F <tensorflow.python.keras.layers.normalization.BatchNormalization object at 0x7efabae06390>\n",
      "15 F <tensorflow.python.keras.layers.merge.Add object at 0x7efabac4e5f8>\n",
      "16 F <tensorflow.python.keras.layers.core.Activation object at 0x7efababee080>\n",
      "17 F <tensorflow.python.keras.layers.convolutional.SeparableConv2D object at 0x7efababeef28>\n",
      "18 F <tensorflow.python.keras.layers.normalization.BatchNormalization object at 0x7efabab1f390>\n",
      "19 F <tensorflow.python.keras.layers.core.Activation object at 0x7efabab1fc18>\n",
      "20 F <tensorflow.python.keras.layers.convolutional.SeparableConv2D object at 0x7efabaac4a90>\n",
      "21 F <tensorflow.python.keras.layers.normalization.BatchNormalization object at 0x7efabaa9b898>\n",
      "22 F <tensorflow.python.keras.layers.convolutional.Conv2D object at 0x7efabac20d30>\n",
      "23 F <tensorflow.python.keras.layers.pooling.MaxPooling2D object at 0x7efb203a2ef0>\n",
      "24 F <tensorflow.python.keras.layers.normalization.BatchNormalization object at 0x7efababe5780>\n",
      "25 F <tensorflow.python.keras.layers.merge.Add object at 0x7efb600d5f28>\n",
      "26 F <tensorflow.python.keras.layers.core.Activation object at 0x7efb980311d0>\n",
      "27 F <tensorflow.python.keras.layers.convolutional.SeparableConv2D object at 0x7efb980313c8>\n",
      "28 F <tensorflow.python.keras.layers.normalization.BatchNormalization object at 0x7efb600bd588>\n",
      "29 F <tensorflow.python.keras.layers.core.Activation object at 0x7efb600bdf28>\n",
      "30 F <tensorflow.python.keras.layers.convolutional.SeparableConv2D object at 0x7efb60063940>\n",
      "31 F <tensorflow.python.keras.layers.normalization.BatchNormalization object at 0x7efb20525240>\n",
      "32 F <tensorflow.python.keras.layers.convolutional.Conv2D object at 0x7efb600d5f98>\n",
      "33 F <tensorflow.python.keras.layers.pooling.MaxPooling2D object at 0x7efb20525cc0>\n",
      "34 F <tensorflow.python.keras.layers.normalization.BatchNormalization object at 0x7efb98073898>\n",
      "35 F <tensorflow.python.keras.layers.merge.Add object at 0x7efb204e4048>\n",
      "36 F <tensorflow.python.keras.layers.core.Activation object at 0x7efb204b87f0>\n",
      "37 F <tensorflow.python.keras.layers.convolutional.SeparableConv2D object at 0x7efb2045eef0>\n",
      "38 F <tensorflow.python.keras.layers.normalization.BatchNormalization object at 0x7efb2047e240>\n",
      "39 F <tensorflow.python.keras.layers.core.Activation object at 0x7efb20477ef0>\n",
      "40 F <tensorflow.python.keras.layers.convolutional.SeparableConv2D object at 0x7efb20418f98>\n",
      "41 F <tensorflow.python.keras.layers.normalization.BatchNormalization object at 0x7efabaa744a8>\n",
      "42 F <tensorflow.python.keras.layers.core.Activation object at 0x7efabaa74d68>\n",
      "43 F <tensorflow.python.keras.layers.convolutional.SeparableConv2D object at 0x7efabaa1abe0>\n",
      "44 F <tensorflow.python.keras.layers.normalization.BatchNormalization object at 0x7efaba94c160>\n",
      "45 F <tensorflow.python.keras.layers.merge.Add object at 0x7efaba94c9b0>\n",
      "46 F <tensorflow.python.keras.layers.core.Activation object at 0x7efb204b8c50>\n",
      "47 F <tensorflow.python.keras.layers.convolutional.SeparableConv2D object at 0x7efaba9729e8>\n",
      "48 F <tensorflow.python.keras.layers.normalization.BatchNormalization object at 0x7efaba8a3160>\n",
      "49 F <tensorflow.python.keras.layers.core.Activation object at 0x7efaba8a3a58>\n",
      "50 F <tensorflow.python.keras.layers.convolutional.SeparableConv2D object at 0x7efaba846908>\n",
      "51 F <tensorflow.python.keras.layers.normalization.BatchNormalization object at 0x7efaba7e1e48>\n",
      "52 F <tensorflow.python.keras.layers.core.Activation object at 0x7efaba7f96d8>\n",
      "53 F <tensorflow.python.keras.layers.convolutional.SeparableConv2D object at 0x7efaba7a25c0>\n",
      "54 F <tensorflow.python.keras.layers.normalization.BatchNormalization object at 0x7efaba67cac8>\n",
      "55 F <tensorflow.python.keras.layers.merge.Add object at 0x7efaba60e198>\n",
      "56 F <tensorflow.python.keras.layers.core.Activation object at 0x7efaba972940>\n",
      "57 F <tensorflow.python.keras.layers.convolutional.SeparableConv2D object at 0x7efaba5bf400>\n",
      "58 F <tensorflow.python.keras.layers.normalization.BatchNormalization object at 0x7efaba556b38>\n",
      "59 F <tensorflow.python.keras.layers.core.Activation object at 0x7efaba565400>\n",
      "60 F <tensorflow.python.keras.layers.convolutional.SeparableConv2D object at 0x7efaba5172e8>\n",
      "61 F <tensorflow.python.keras.layers.normalization.BatchNormalization object at 0x7efaba4bb278>\n",
      "62 F <tensorflow.python.keras.layers.core.Activation object at 0x7efaba4aef28>\n",
      "63 F <tensorflow.python.keras.layers.convolutional.SeparableConv2D object at 0x7efaba454e48>\n",
      "64 F <tensorflow.python.keras.layers.normalization.BatchNormalization object at 0x7efaba38b4a8>\n",
      "65 F <tensorflow.python.keras.layers.merge.Add object at 0x7efaba38bd68>\n",
      "66 F <tensorflow.python.keras.layers.core.Activation object at 0x7efaba5bf3c8>\n",
      "67 F <tensorflow.python.keras.layers.convolutional.SeparableConv2D object at 0x7efaba3b1d68>\n",
      "68 F <tensorflow.python.keras.layers.normalization.BatchNormalization object at 0x7efaba2e24e0>\n",
      "69 F <tensorflow.python.keras.layers.core.Activation object at 0x7efaba288d68>\n",
      "70 F <tensorflow.python.keras.layers.convolutional.SeparableConv2D object at 0x7efaba288d30>\n",
      "71 F <tensorflow.python.keras.layers.normalization.BatchNormalization object at 0x7efaba1bd1d0>\n",
      "72 F <tensorflow.python.keras.layers.core.Activation object at 0x7efaba1bda90>\n",
      "73 F <tensorflow.python.keras.layers.convolutional.SeparableConv2D object at 0x7efaba1df940>\n",
      "74 F <tensorflow.python.keras.layers.normalization.BatchNormalization object at 0x7efaba178e80>\n",
      "75 F <tensorflow.python.keras.layers.merge.Add object at 0x7efaba112710>\n",
      "76 F <tensorflow.python.keras.layers.core.Activation object at 0x7efaba3b1cc0>\n",
      "77 F <tensorflow.python.keras.layers.convolutional.SeparableConv2D object at 0x7efaba13c748>\n",
      "78 F <tensorflow.python.keras.layers.normalization.BatchNormalization object at 0x7efaba056eb8>\n",
      "79 F <tensorflow.python.keras.layers.core.Activation object at 0x7efaba069780>\n",
      "80 F <tensorflow.python.keras.layers.convolutional.SeparableConv2D object at 0x7efaba010668>\n",
      "81 F <tensorflow.python.keras.layers.normalization.BatchNormalization object at 0x7efaafd6eba8>\n",
      "82 F <tensorflow.python.keras.layers.core.Activation object at 0x7efaafc81438>\n",
      "83 F <tensorflow.python.keras.layers.convolutional.SeparableConv2D object at 0x7efaafcb4080>\n",
      "84 F <tensorflow.python.keras.layers.normalization.BatchNormalization object at 0x7efaaf616438>\n",
      "85 F <tensorflow.python.keras.layers.merge.Add object at 0x7efaaf608f98>\n",
      "86 F <tensorflow.python.keras.layers.core.Activation object at 0x7efaba13c6a0>\n",
      "87 F <tensorflow.python.keras.layers.convolutional.SeparableConv2D object at 0x7efaaf62eef0>\n",
      "88 F <tensorflow.python.keras.layers.normalization.BatchNormalization object at 0x7efaaf566898>\n",
      "89 F <tensorflow.python.keras.layers.core.Activation object at 0x7efaaf56f198>\n",
      "90 F <tensorflow.python.keras.layers.convolutional.SeparableConv2D object at 0x7efaaf506fd0>\n",
      "91 F <tensorflow.python.keras.layers.normalization.BatchNormalization object at 0x7efaaf4bd588>\n",
      "92 F <tensorflow.python.keras.layers.core.Activation object at 0x7efaaf4bdda0>\n",
      "93 F <tensorflow.python.keras.layers.convolutional.SeparableConv2D object at 0x7efaaf461cc0>\n",
      "94 F <tensorflow.python.keras.layers.normalization.BatchNormalization object at 0x7efaaf398240>\n",
      "95 F <tensorflow.python.keras.layers.merge.Add object at 0x7efaaf398a90>\n",
      "96 F <tensorflow.python.keras.layers.core.Activation object at 0x7efaaf62ef98>\n",
      "97 F <tensorflow.python.keras.layers.convolutional.SeparableConv2D object at 0x7efaaf3baac8>\n",
      "98 F <tensorflow.python.keras.layers.normalization.BatchNormalization object at 0x7efaaf2f0278>\n",
      "99 F <tensorflow.python.keras.layers.core.Activation object at 0x7efaaf2f0b00>\n",
      "100 F <tensorflow.python.keras.layers.convolutional.SeparableConv2D object at 0x7efaaf2959b0>\n",
      "101 F <tensorflow.python.keras.layers.normalization.BatchNormalization object at 0x7efaaf22aeb8>\n",
      "102 F <tensorflow.python.keras.layers.core.Activation object at 0x7efaaf1c57b8>\n",
      "103 F <tensorflow.python.keras.layers.convolutional.SeparableConv2D object at 0x7efaaf1ec6a0>\n",
      "104 F <tensorflow.python.keras.layers.normalization.BatchNormalization object at 0x7efaaf107be0>\n",
      "105 F <tensorflow.python.keras.layers.merge.Add object at 0x7efaaf11a4a8>\n",
      "106 F <tensorflow.python.keras.layers.core.Activation object at 0x7efaaf3baa20>\n",
      "107 F <tensorflow.python.keras.layers.convolutional.SeparableConv2D object at 0x7efaaf0cc4a8>\n",
      "108 F <tensorflow.python.keras.layers.normalization.BatchNormalization object at 0x7efaaf062c18>\n",
      "109 F <tensorflow.python.keras.layers.core.Activation object at 0x7efaaf0724e0>\n",
      "110 T <tensorflow.python.keras.layers.convolutional.SeparableConv2D object at 0x7efaaf0243c8>\n",
      "111 T <tensorflow.python.keras.layers.normalization.BatchNormalization object at 0x7efaaefba908>\n",
      "112 T <tensorflow.python.keras.layers.core.Activation object at 0x7efaaef481d0>\n",
      "113 T <tensorflow.python.keras.layers.convolutional.SeparableConv2D object at 0x7efaaef62f98>\n",
      "114 T <tensorflow.python.keras.layers.normalization.BatchNormalization object at 0x7efaaee975c0>\n",
      "115 T <tensorflow.python.keras.layers.merge.Add object at 0x7efaaee97e80>\n",
      "116 T <tensorflow.python.keras.layers.core.Activation object at 0x7efaaedf2978>\n",
      "117 T <tensorflow.python.keras.layers.convolutional.SeparableConv2D object at 0x7efaaedf2f98>\n",
      "118 T <tensorflow.python.keras.layers.normalization.BatchNormalization object at 0x7efaaed3d240>\n",
      "119 T <tensorflow.python.keras.layers.core.Activation object at 0x7efaaed30ef0>\n",
      "120 T <tensorflow.python.keras.layers.convolutional.SeparableConv2D object at 0x7efaaecd7f98>\n",
      "121 T <tensorflow.python.keras.layers.normalization.BatchNormalization object at 0x7efaaec0e470>\n",
      "122 T <tensorflow.python.keras.layers.convolutional.Conv2D object at 0x7efaaeebdcf8>\n",
      "123 T <tensorflow.python.keras.layers.pooling.MaxPooling2D object at 0x7efaaec0ed30>\n",
      "124 T <tensorflow.python.keras.layers.normalization.BatchNormalization object at 0x7efaaedf20b8>\n",
      "125 T <tensorflow.python.keras.layers.merge.Add object at 0x7efaaebd12e8>\n",
      "126 T <tensorflow.python.keras.layers.convolutional.SeparableConv2D object at 0x7efaaebbc4e0>\n",
      "127 T <tensorflow.python.keras.layers.normalization.BatchNormalization object at 0x7efaaeb790f0>\n",
      "128 T <tensorflow.python.keras.layers.core.Activation object at 0x7efaaeb799e8>\n",
      "129 T <tensorflow.python.keras.layers.convolutional.SeparableConv2D object at 0x7efaaeb20898>\n",
      "130 T <tensorflow.python.keras.layers.normalization.BatchNormalization object at 0x7efaaea55898>\n",
      "131 T <tensorflow.python.keras.layers.core.Activation object at 0x7efaaea62160>\n"
     ]
    }
   ],
   "source": [
    "model = Model(inputs=base_model.input, outputs=predictions)\n",
    "freeze_layer_number = 109\n",
    "\n",
    "for i, layer in enumerate(base_model.layers):\n",
    "    if i <= freeze_layer_number:\n",
    "        print (i,'F',base_model.layers[i])\n",
    "        layer.trainable=False\n",
    "    if i > freeze_layer_number:\n",
    "        print (i,'T',base_model.layers[i])\n",
    "        layer.trainable=True\n",
    "    \n",
    "model.compile(optimizer='Adam', loss='binary_crossentropy', metrics=['accuracy'])\n",
    "\n",
    "filepath=\"weights-improvement-{epoch:02d}-{val_acc:.4f}.hdf5\"\n",
    "checkpoint = ModelCheckpoint(filepath, monitor='val_acc', verbose=1, save_best_only=True, mode='max')\n",
    "callbacks_list = [checkpoint]"
   ]
  },
  {
   "cell_type": "code",
   "execution_count": 12,
   "metadata": {},
   "outputs": [],
   "source": [
    "def plot_hist(history):\n",
    "    plt.plot(history.history['acc'])\n",
    "    plt.plot(history.history['val_acc'])\n",
    "    plt.title('Model Accuracy')\n",
    "    plt.ylabel('Accuracy')\n",
    "    plt.xlabel('Epochs')\n",
    "    plt.legend(['train', 'test'])\n",
    "    plt.show()"
   ]
  },
  {
   "cell_type": "code",
   "execution_count": 13,
   "metadata": {},
   "outputs": [
    {
     "name": "stdout",
     "output_type": "stream",
     "text": [
      "Epoch 1/8\n",
      "WARNING:tensorflow:From /usr/local/lib/python3.5/dist-packages/tensorflow/python/ops/math_grad.py:1250: add_dispatch_support.<locals>.wrapper (from tensorflow.python.ops.array_ops) is deprecated and will be removed in a future version.\n",
      "Instructions for updating:\n",
      "Use tf.where in 2.0, which has the same broadcast rule as np.where\n",
      "408/409 [============================>.] - ETA: 1s - loss: 0.1114 - acc: 0.9724\n",
      "Epoch 00001: val_acc improved from -inf to 0.98252, saving model to weights-improvement-01-0.9825.hdf5\n",
      "409/409 [==============================] - 692s 2s/step - loss: 0.1116 - acc: 0.9723 - val_loss: 0.0667 - val_acc: 0.9825\n",
      "Epoch 2/8\n",
      "408/409 [============================>.] - ETA: 1s - loss: 0.0603 - acc: 0.9813\n",
      "Epoch 00002: val_acc improved from 0.98252 to 0.98300, saving model to weights-improvement-02-0.9830.hdf5\n",
      "409/409 [==============================] - 676s 2s/step - loss: 0.0604 - acc: 0.9813 - val_loss: 0.0554 - val_acc: 0.9830\n",
      "Epoch 3/8\n",
      "408/409 [============================>.] - ETA: 1s - loss: 0.0513 - acc: 0.9845\n",
      "Epoch 00003: val_acc improved from 0.98300 to 0.98515, saving model to weights-improvement-03-0.9852.hdf5\n",
      "409/409 [==============================] - 676s 2s/step - loss: 0.0513 - acc: 0.9844 - val_loss: 0.0631 - val_acc: 0.9852\n",
      "Epoch 4/8\n",
      "408/409 [============================>.] - ETA: 1s - loss: 0.0350 - acc: 0.9894\n",
      "Epoch 00004: val_acc did not improve from 0.98515\n",
      "409/409 [==============================] - 675s 2s/step - loss: 0.0350 - acc: 0.9893 - val_loss: 0.0833 - val_acc: 0.9734\n",
      "Epoch 5/8\n",
      "408/409 [============================>.] - ETA: 1s - loss: 0.0356 - acc: 0.9889\n",
      "Epoch 00005: val_acc did not improve from 0.98515\n",
      "409/409 [==============================] - 675s 2s/step - loss: 0.0355 - acc: 0.9889 - val_loss: 0.0722 - val_acc: 0.9837\n",
      "Epoch 6/8\n",
      "408/409 [============================>.] - ETA: 1s - loss: 0.0295 - acc: 0.9904\n",
      "Epoch 00006: val_acc did not improve from 0.98515\n",
      "409/409 [==============================] - 675s 2s/step - loss: 0.0296 - acc: 0.9904 - val_loss: 0.0656 - val_acc: 0.9849\n",
      "Epoch 7/8\n",
      "408/409 [============================>.] - ETA: 1s - loss: 0.0271 - acc: 0.9921\n",
      "Epoch 00007: val_acc did not improve from 0.98515\n",
      "409/409 [==============================] - 676s 2s/step - loss: 0.0272 - acc: 0.9920 - val_loss: 0.0696 - val_acc: 0.9840\n",
      "Epoch 8/8\n",
      "408/409 [============================>.] - ETA: 1s - loss: 0.0221 - acc: 0.9933\n",
      "Epoch 00008: val_acc did not improve from 0.98515\n",
      "409/409 [==============================] - 676s 2s/step - loss: 0.0221 - acc: 0.9933 - val_loss: 0.0721 - val_acc: 0.9837\n"
     ]
    },
    {
     "data": {
      "image/png": "[encoded data removed]",
      "text/plain": [
       "<Figure size 432x288 with 1 Axes>"
      ]
     },
     "metadata": {
      "needs_background": "light"
     },
     "output_type": "display_data"
    },
    {
     "name": "stdout",
     "output_type": "stream",
     "text": [
      "CPU times: user 3h 39min 47s, sys: 14min 28s, total: 3h 54min 16s\n",
      "Wall time: 1h 30min 22s\n"
     ]
    }
   ],
   "source": [
    "%%time\n",
    "hist = model.fit_generator(train_generator, train_generator.n // BATCH_SIZE, epochs=8, workers=8,\n",
    "        validation_data=validation_generator, validation_steps=validation_generator.n // BATCH_SIZE, callbacks=callbacks_list)\n",
    "plot_hist(hist)"
   ]
  },
  {
   "cell_type": "code",
   "execution_count": 14,
   "metadata": {},
   "outputs": [
    {
     "name": "stdout",
     "output_type": "stream",
     "text": [
      "Found 4210 images belonging to 2 classes.\n",
      "0.9814727\n"
     ]
    }
   ],
   "source": [
    "test_datagen = ImageDataGenerator(preprocessing_function=preprocess_input)\n",
    "\n",
    "test_generator = test_datagen.flow_from_directory(\n",
    "        PATH + 'test',\n",
    "        target_size=(SIZE, SIZE),\n",
    "        color_mode=\"rgb\",\n",
    "        shuffle = False,\n",
    "        class_mode='categorical',\n",
    "        batch_size=1)\n",
    "\n",
    "filenames = test_generator.filenames\n",
    "nb_samples = len(filenames)\n",
    "\n",
    "loss, acc = model.evaluate_generator(test_generator, steps=nb_samples, verbose=0)\n",
    "print(acc)"
   ]
  },
  {
   "cell_type": "code",
   "execution_count": 8,
   "metadata": {},
   "outputs": [
    {
     "data": {
      "text/plain": [
       "91582096"
      ]
     },
     "execution_count": 8,
     "metadata": {},
     "output_type": "execute_result"
    }
   ],
   "source": [
    "converter = tf.lite.TFLiteConverter.from_keras_model_file('./weights-improvement-03-0.9852.hdf5' , input_shapes={'input_2':[1, 498, 498, 3]})\n",
    "tflite_model = converter.convert()\n",
    "open(\"cat_model.tflite\", \"wb\").write(tflite_model)"
   ]
  },
  {
   "cell_type": "code",
   "execution_count": 13,
   "metadata": {},
   "outputs": [
    {
     "name": "stdout",
     "output_type": "stream",
     "text": [
      "Epoch 1/8\n",
      "307/307 [==============================] - 169s 550ms/step - loss: 0.2069 - acc: 0.9229 - val_loss: 0.2562 - val_acc: 0.8889\n",
      "Epoch 2/8\n",
      "307/307 [==============================] - 168s 548ms/step - loss: 0.1256 - acc: 0.9538 - val_loss: 0.3227 - val_acc: 0.8464\n",
      "Epoch 3/8\n",
      "307/307 [==============================] - 168s 548ms/step - loss: 0.1140 - acc: 0.9579 - val_loss: 0.2075 - val_acc: 0.9118\n",
      "Epoch 4/8\n",
      "307/307 [==============================] - 168s 547ms/step - loss: 0.1044 - acc: 0.9602 - val_loss: 0.2462 - val_acc: 0.8911\n",
      "Epoch 5/8\n",
      "307/307 [==============================] - 168s 547ms/step - loss: 0.0959 - acc: 0.9650 - val_loss: 0.2695 - val_acc: 0.8815\n",
      "Epoch 6/8\n",
      "307/307 [==============================] - 167s 545ms/step - loss: 0.0932 - acc: 0.9658 - val_loss: 0.1609 - val_acc: 0.9385\n",
      "Epoch 7/8\n",
      "307/307 [==============================] - 168s 546ms/step - loss: 0.0836 - acc: 0.9688 - val_loss: 0.2822 - val_acc: 0.8743\n",
      "Epoch 8/8\n",
      "307/307 [==============================] - 168s 548ms/step - loss: 0.0822 - acc: 0.9697 - val_loss: 0.1288 - val_acc: 0.9531\n",
      "CPU times: user 2h 33min 21s, sys: 3min 44s, total: 2h 37min 6s\n",
      "Wall time: 22min 26s\n"
     ]
    }
   ],
   "source": [
    "## BATCH_SIZE = 64, SIZE = 299\n",
    "%%time\n",
    "hist = model.fit_generator(train_generator, train_generator.n // BATCH_SIZE, epochs=8, workers=8,\n",
    "        validation_data=validation_generator, validation_steps=validation_generator.n // BATCH_SIZE)\n",
    "\n"
   ]
  },
  {
   "cell_type": "code",
   "execution_count": 17,
   "metadata": {},
   "outputs": [
    {
     "data": {
      "image/png": "[encoded data removed]",
      "text/plain": [
       "<Figure size 432x288 with 1 Axes>"
      ]
     },
     "metadata": {},
     "output_type": "display_data"
    }
   ],
   "source": [
    "plot_hist(hist)"
   ]
  }
 ],
 "metadata": {
  "kernelspec": {
   "display_name": "Python 3",
   "language": "python",
   "name": "python3"
  },
  "language_info": {
   "codemirror_mode": {
    "name": "ipython",
    "version": 3
   },
   "file_extension": ".py",
   "mimetype": "text/x-python",
   "name": "python",
   "nbconvert_exporter": "python",
   "pygments_lexer": "ipython3",
   "version": "3.7.3"
  },
  "toc": {
   "base_numbering": 1,
   "nav_menu": {},
   "number_sections": true,
   "sideBar": true,
   "skip_h1_title": false,
   "title_cell": "Table of Contents",
   "title_sidebar": "Contents",
   "toc_cell": false,
   "toc_position": {},
   "toc_section_display": true,
   "toc_window_display": false
  },
  "varInspector": {
   "cols": {
    "lenName": 16,
    "lenType": 16,
    "lenVar": 40
   },
   "kernels_config": {
    "python": {
     "delete_cmd_postfix": "",
     "delete_cmd_prefix": "del ",
     "library": "var_list.py",
     "varRefreshCmd": "print(var_dic_list())"
    },
    "r": {
     "delete_cmd_postfix": ") ",
     "delete_cmd_prefix": "rm(",
     "library": "var_list.r",
     "varRefreshCmd": "cat(var_dic_list()) "
    }
   },
   "types_to_exclude": [
    "module",
    "function",
    "builtin_function_or_method",
    "instance",
    "_Feature"
   ],
   "window_display": false
  }
 },
 "nbformat": 4,
 "nbformat_minor": 2
}
